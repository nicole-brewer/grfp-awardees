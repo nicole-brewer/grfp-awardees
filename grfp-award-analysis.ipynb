{
 "cells": [
  {
   "cell_type": "code",
   "execution_count": null,
   "id": "152d344c-6be1-44a9-b0db-92e4f8b3d33d",
   "metadata": {
    "tags": []
   },
   "outputs": [],
   "source": [
    "import os\n",
    "import pandas as pd\n",
    "import matplotlib.pyplot as plt\n",
    "\n",
    "\n",
    "# Specify the folder containing all the Excel files\n",
    "data_folder = 'data'\n",
    "\n",
    "# Generate a list of years for which you have data\n",
    "years = range(2012, 2024)  # Assuming data is available from 2018 to 2023\n",
    "\n",
    "# Create an empty list to store dataframes\n",
    "dataframes = []\n",
    "\n",
    "# Iterate through years and load dataframes\n",
    "for year in years:\n",
    "    awardees_filename = f'Awardees{year}.xlsx'\n",
    "    mentions_filename = f'HonorableMentions{year}.xlsx'\n",
    "\n",
    "    awardees_file_path = os.path.join(data_folder, awardees_filename)\n",
    "    mentions_file_path = os.path.join(data_folder, mentions_filename)\n",
    "\n",
    "    if os.path.exists(awardees_file_path):\n",
    "        df_awardees = pd.read_excel(awardees_file_path)\n",
    "        df_awardees['Year'] = year\n",
    "        df_awardees['Type'] = 'awardee'\n",
    "        split_fields = df_awardees['Field of Study'].str.split('-', expand=True)\n",
    "        df_awardees['Major'] = split_fields[0].str.strip()\n",
    "        df_awardees['Minor'] = split_fields[1].str.strip()\n",
    "        df_awardees.drop(columns=['Field of Study'], inplace=True)\n",
    "        dataframes.append(df_awardees)\n",
    "\n",
    "    if os.path.exists(mentions_file_path):\n",
    "        df_mentions = pd.read_excel(mentions_file_path)\n",
    "        df_mentions['Year'] = year\n",
    "        df_mentions['Type'] = 'honorable mention'\n",
    "        split_fields = df_mentions['Field of Study'].str.split('-', expand=True)\n",
    "        df_mentions['Major'] = split_fields[0].str.strip()\n",
    "        df_mentions['Minor'] = split_fields[1].str.strip()\n",
    "        df_mentions.drop(columns=['Field of Study'], inplace=True)\n",
    "        dataframes.append(df_mentions)\n",
    "        \n",
    "# Concatenate all dataframes into a single dataframe\n",
    "combined_df = pd.concat(dataframes, ignore_index=True)"
   ]
  },
  {
   "cell_type": "code",
   "execution_count": null,
   "id": "7438c9ef-d581-4b93-baee-86f5171fab72",
   "metadata": {
    "tags": []
   },
   "outputs": [],
   "source": [
    "combined_df"
   ]
  },
  {
   "cell_type": "code",
   "execution_count": null,
   "id": "167081fb-8402-45b4-b2c8-94c4aab016e4",
   "metadata": {
    "tags": []
   },
   "outputs": [],
   "source": [
    "import matplotlib.pyplot as plt\n",
    "\n",
    "# Replace 'selected_year' with the year you want to analyze\n",
    "selected_year = 2023\n",
    "\n",
    "# Get the data for the selected year\n",
    "selected_year_data = combined_df[combined_df['Year'] == selected_year]\n",
    "\n",
    "# Group the data by 'Major' and 'Type', then calculate the counts\n",
    "grouped_data = selected_year_data.groupby(['Major', 'Type']).size().unstack(fill_value=0)\n",
    "\n",
    "# Calculate the total counts for each major field\n",
    "grouped_data['Total'] = grouped_data.sum(axis=1)\n",
    "\n",
    "# Sort the dataframe by total counts in descending order\n",
    "grouped_data = grouped_data.sort_values(by='Total', ascending=False)\n",
    "\n",
    "# Plotting\n",
    "plt.figure(figsize=(12, 6))\n",
    "grouped_data.drop(columns='Total').plot(kind='bar', stacked=True)\n",
    "plt.title(f'Total Awardees and Honorable Mentions in Each Major Field - Year: {selected_year}')\n",
    "plt.xlabel('Major Field')\n",
    "plt.ylabel('Count')\n",
    "plt.xticks(rotation=45, ha='right')\n",
    "plt.tight_layout()\n",
    "plt.legend(title='Type')\n",
    "plt.show()"
   ]
  },
  {
   "cell_type": "code",
   "execution_count": null,
   "id": "905bfa35-2c7d-4b08-8874-3d2fa675b087",
   "metadata": {
    "tags": []
   },
   "outputs": [],
   "source": [
    "combined_df['Major'].unique()"
   ]
  },
  {
   "cell_type": "code",
   "execution_count": null,
   "id": "61917c4c-7925-45ef-8851-73b6526d3b01",
   "metadata": {
    "tags": []
   },
   "outputs": [],
   "source": [
    "# Replace 'selected_major_field' and 'selected_year' with the major field and year you want to analyze\n",
    "selected_major_field = 'Social Sciences'\n",
    "selected_year = 2023\n",
    "\n",
    "# Get the data for the selected year and major field\n",
    "selected_data = combined_df[(combined_df['Year'] == selected_year) & (combined_df['Major'] == selected_major_field)]\n",
    "selected_data\n",
    "\n",
    "# Group the data by 'Minor', then calculate the counts\n",
    "grouped_data = selected_data.groupby('Minor').size()\n",
    "\n",
    "# Calculate the total count\n",
    "total_count = grouped_data.sum()\n",
    "\n",
    "# Calculate the percentages\n",
    "percentages = (grouped_data / total_count) * 100\n",
    "\n",
    "# Plotting a pie chart\n",
    "plt.figure(figsize=(8, 8))\n",
    "plt.pie(percentages, labels=percentages.index, autopct='%1.1f%%', shadow=True, startangle=140)\n",
    "plt.title(f'Distribution of Subfields in {selected_major_field} - Year: {selected_year}')\n",
    "plt.axis('equal')  # Equal aspect ratio ensures the pie chart is circular.\n",
    "plt.show()"
   ]
  },
  {
   "cell_type": "code",
   "execution_count": null,
   "id": "bdfc0087-0a79-40bf-aa47-22cce3e86cc3",
   "metadata": {
    "tags": []
   },
   "outputs": [],
   "source": [
    "import matplotlib.pyplot as plt\n",
    "\n",
    "# Replace 'selected_major_field' with the major field you want to analyze\n",
    "selected_major_field = 'Social Sciences'\n",
    "\n",
    "# Filter data for the selected major field\n",
    "selected_data = combined_df[combined_df['Major'] == selected_major_field]\n",
    "\n",
    "# Group the data by 'Minor', then calculate the counts\n",
    "grouped_data = selected_data.groupby('Minor').size()\n",
    "\n",
    "# Calculate the total count\n",
    "total_count = grouped_data.sum()\n",
    "\n",
    "# Calculate the percentages\n",
    "percentages = (grouped_data / total_count) * 100\n",
    "\n",
    "# Plotting\n",
    "plt.figure(figsize=(10, 6))\n",
    "percentages.plot(kind='bar')\n",
    "plt.title(f'Distribution of Minor Fields in {selected_major_field}')\n",
    "plt.xlabel('Minor Field')\n",
    "plt.ylabel('Percentage (%)')\n",
    "plt.xticks(rotation=45, ha='right')\n",
    "plt.tight_layout()\n",
    "plt.show()\n"
   ]
  },
  {
   "cell_type": "code",
   "execution_count": null,
   "id": "5ed3975b-4312-4b31-b68b-c56f3fe0c7a5",
   "metadata": {
    "tags": []
   },
   "outputs": [],
   "source": [
    "import matplotlib.pyplot as plt\n",
    "\n",
    "# Replace 'selected_major_field' with the major field you want to analyze\n",
    "selected_major_field = 'Social Sciences'\n",
    "\n",
    "# Filter data for the selected major field\n",
    "selected_data = combined_df[combined_df['Major'] == selected_major_field]\n",
    "\n",
    "# Group the data by 'Minor', then calculate the counts\n",
    "grouped_data = selected_data.groupby('Minor').size()\n",
    "\n",
    "# Calculate the total count\n",
    "total_count = grouped_data.sum()\n",
    "\n",
    "# Calculate the percentages\n",
    "percentages = (grouped_data / total_count) * 100\n",
    "\n",
    "# Plotting a pie chart\n",
    "plt.figure(figsize=(8, 8))\n",
    "plt.pie(percentages, labels=percentages.index, autopct='%1.1f%%', shadow=True, startangle=140)\n",
    "plt.title(f'Distribution of Minor Fields in {selected_major_field}')\n",
    "plt.axis('equal')  # Equal aspect ratio ensures the pie chart is circular.\n",
    "plt.show()\n"
   ]
  },
  {
   "cell_type": "code",
   "execution_count": null,
   "id": "5098dd99-f8b8-425f-8d5c-1fbc5d7a7f18",
   "metadata": {
    "tags": []
   },
   "outputs": [],
   "source": [
    "import matplotlib.pyplot as plt\n",
    "\n",
    "# Replace 'selected_major_field' with the major field you want to analyze\n",
    "selected_major_field = 'Social Sciences'\n",
    "\n",
    "# Filter data for the selected major field\n",
    "selected_data = combined_df[combined_df['Major'] == selected_major_field]\n",
    "\n",
    "# Group the data by 'Minor', then calculate the counts\n",
    "grouped_data = selected_data.groupby('Minor').size()\n",
    "\n",
    "# Calculate the total count\n",
    "total_count = grouped_data.sum()\n",
    "\n",
    "# Calculate the percentages\n",
    "percentages = (grouped_data / total_count) * 100\n",
    "\n",
    "# Sort the percentages in descending order\n",
    "percentages = percentages.sort_values(ascending=False)\n",
    "\n",
    "# Plotting a pie chart\n",
    "plt.figure(figsize=(8, 8))\n",
    "plt.pie(percentages, labels=percentages.index, autopct='%1.1f%%', shadow=True, startangle=140)\n",
    "plt.title(f'Distribution of Minor Fields in {selected_major_field}')\n",
    "plt.axis('equal')  # Equal aspect ratio ensures the pie chart is circular.\n",
    "plt.show()\n"
   ]
  },
  {
   "cell_type": "code",
   "execution_count": null,
   "id": "bd3589fa-54d9-4bbe-8c2e-b21b9f51cf6a",
   "metadata": {
    "tags": []
   },
   "outputs": [],
   "source": [
    "import matplotlib.pyplot as plt\n",
    "\n",
    "# Replace 'selected_major_field' with the major field you want to analyze\n",
    "selected_major_field = 'Social Sciences'\n",
    "\n",
    "# Filter data for the selected major field\n",
    "selected_data = combined_df[combined_df['Major'] == selected_major_field]\n",
    "\n",
    "# Group the data by 'Minor', then calculate the counts\n",
    "grouped_data = selected_data.groupby('Minor').size()\n",
    "\n",
    "# Calculate the total count\n",
    "total_count = grouped_data.sum()\n",
    "\n",
    "# Calculate the percentages\n",
    "percentages = (grouped_data / total_count) * 100\n",
    "\n",
    "# Sort the percentages in descending order\n",
    "percentages = percentages.sort_values(ascending=False)\n",
    "\n",
    "# Plotting a pie chart\n",
    "plt.figure(figsize=(8, 8))\n",
    "patches, texts, autotexts = plt.pie(percentages, labels=percentages.index, autopct='%1.1f%%', shadow=True, startangle=140,\n",
    "                                    colors=plt.cm.tab20.colors)\n",
    "plt.title(f'Distribution of Minor Fields in {selected_major_field}')\n",
    "plt.axis('equal')  # Equal aspect ratio ensures the pie chart is circular.\n",
    "\n",
    "# Create the legend with color, title, and percentage\n",
    "legend_labels = [f'{label}: {percent:.1f}%' for label, percent in zip(percentages.index, percentages)]\n",
    "plt.legend(patches, legend_labels, loc='best', bbox_to_anchor=(1, 0.5), prop={'size': 10})\n",
    "\n",
    "# Automatically remove labels for slices with smaller percentages\n",
    "for text in texts:\n",
    "    text.set_visible(False)\n",
    "\n",
    "plt.show()\n",
    "\n"
   ]
  },
  {
   "cell_type": "code",
   "execution_count": null,
   "id": "bbae1c8e-3a2e-4d19-bdd7-b66b869b554d",
   "metadata": {
    "tags": []
   },
   "outputs": [],
   "source": [
    "import matplotlib.pyplot as plt\n",
    "\n",
    "# Replace 'selected_major_fields' with the major fields you want to analyze\n",
    "selected_major_fields = ['Social Sciences', 'Engineering']\n",
    "\n",
    "# Initialize an empty DataFrame to store grouped data\n",
    "grouped_data = pd.DataFrame()\n",
    "\n",
    "# Loop through selected major fields\n",
    "for selected_major_field in selected_major_fields:\n",
    "    # Filter data for the selected major field\n",
    "    selected_data = combined_df[combined_df['Major'] == selected_major_field]\n",
    "    \n",
    "    # Group the data by 'Year', then calculate the counts\n",
    "    grouped_data[selected_major_field] = selected_data.groupby('Year').size()\n",
    "\n",
    "# Plotting a line chart\n",
    "plt.figure(figsize=(10, 6))\n",
    "grouped_data.plot(marker='o')\n",
    "plt.title('Number of Applications Over Time')\n",
    "plt.xlabel('Year')\n",
    "plt.ylabel('Number of Applications')\n",
    "plt.grid(True)\n",
    "plt.xticks(grouped_data.index)\n",
    "plt.tight_layout()\n",
    "plt.legend()\n",
    "plt.show()\n"
   ]
  },
  {
   "cell_type": "code",
   "execution_count": null,
   "id": "64916dd2-c57f-4fe6-82f9-1dd104399a9a",
   "metadata": {},
   "outputs": [],
   "source": [
    "# Replace 'selected_major_fields' with the major fields you want to analyze\n",
    "selected_minor_fields = ['Social Sciences', 'Engineering']\n",
    "\n",
    "# Initialize an empty DataFrame to store grouped data\n",
    "grouped_data = pd.DataFrame()\n",
    "\n",
    "# Loop through selected major fields\n",
    "for selected_major_field in selected_major_fields:\n",
    "    # Filter data for the selected major field\n",
    "    selected_data = combined_df[combined_df['Major'] == selected_major_field]\n",
    "    \n",
    "    # Group the data by 'Year', then calculate the counts\n",
    "    grouped_data[selected_major_field] = selected_data.groupby('Year').size()\n",
    "\n",
    "# Plotting a line chart\n",
    "plt.figure(figsize=(10, 6))\n",
    "grouped_data.plot(marker='o')\n",
    "plt.title('Number of Applications Over Time')\n",
    "plt.xlabel('Year')\n",
    "plt.ylabel('Number of Applications')\n",
    "plt.grid(True)\n",
    "plt.xticks(grouped_data.index)\n",
    "plt.tight_layout()\n",
    "plt.legend()\n",
    "plt.show()\n"
   ]
  },
  {
   "cell_type": "code",
   "execution_count": null,
   "id": "b8273b41-d8b0-4c1c-b7d5-96b6814652d8",
   "metadata": {
    "tags": []
   },
   "outputs": [],
   "source": [
    "import matplotlib.pyplot as plt\n",
    "\n",
    "# Replace 'selected_major_field' with the major field you want to analyze\n",
    "selected_major_field = 'Social Sciences'\n",
    "\n",
    "# Filter data for the selected major field\n",
    "selected_data = combined_df[combined_df['Major'] == selected_major_field]\n",
    "\n",
    "# Get the list of all unique minor fields within the selected major field\n",
    "unique_minor_fields = ['Computationally Intensive Research', 'History and Philosophy of Science']#selected_data['Minor'].unique()\n",
    "\n",
    "# Plotting a single line chart for all minor fields within the selected major field\n",
    "plt.figure(figsize=(10, 6))\n",
    "for minor_field in unique_minor_fields:\n",
    "    # Filter data for the selected minor field within the major field\n",
    "    minor_data = selected_data[selected_data['Minor'] == minor_field]\n",
    "    \n",
    "    # Group the data by 'Year', then calculate the counts\n",
    "    grouped_data = minor_data.groupby('Year').size()\n",
    "    \n",
    "    # Plot the line for each minor field\n",
    "    plt.plot(grouped_data.index, grouped_data.values, marker='o', label=minor_field)\n",
    "\n",
    "plt.title(f'Number of Applications for Minor Fields in {selected_major_field} Over Time')\n",
    "plt.xlabel('Year')\n",
    "plt.ylabel('Number of Applications')\n",
    "plt.grid(True)\n",
    "plt.xticks(grouped_data.index)\n",
    "plt.legend()\n",
    "plt.tight_layout()\n",
    "plt.show()"
   ]
  },
  {
   "cell_type": "code",
   "execution_count": null,
   "id": "c72e0fd7-87bf-4371-acb2-52fcdffa5ebe",
   "metadata": {
    "tags": []
   },
   "outputs": [],
   "source": [
    "import matplotlib.pyplot as plt\n",
    "\n",
    "# Define the specific minor field\n",
    "selected_minor_field = 'Computationally Intensive Research'\n",
    "\n",
    "# Initialize an empty DataFrame to store grouped data\n",
    "grouped_data = pd.DataFrame()\n",
    "\n",
    "# Loop through unique major fields\n",
    "for selected_major_field in combined_df['Major'].unique():\n",
    "    # Filter data for the selected major field and minor field\n",
    "    selected_data = combined_df[(combined_df['Major'] == selected_major_field) & (combined_df['Minor'] == selected_minor_field)]\n",
    "    \n",
    "    # Group the data by 'Year', then calculate the counts\n",
    "    grouped_data[selected_major_field] = selected_data.groupby('Year').size()\n",
    "\n",
    "# Plotting a line chart for all major fields\n",
    "plt.figure(figsize=(10, 6))\n",
    "grouped_data.plot(marker='o')\n",
    "plt.title(f'Number of {selected_minor_field} Minors Belonging to Each Major Over Time')\n",
    "plt.xlabel('Year')\n",
    "plt.ylabel('Number of Minors')\n",
    "plt.grid(True)\n",
    "plt.xticks(grouped_data.index)\n",
    "plt.legend(loc='center left', bbox_to_anchor=(1, 0.5))  # Place the legend to the rightplt.tight_layout()\n",
    "plt.show()\n"
   ]
  },
  {
   "cell_type": "code",
   "execution_count": null,
   "id": "5f9d0b9b-8b15-4e72-a665-58bf4970a7f2",
   "metadata": {
    "tags": []
   },
   "outputs": [],
   "source": [
    "selected_data = combined_df[(combined_df['Major'] == 'Social Sciences') & (combined_df['Minor'] == selected_minor_field)]\n",
    "selected_data"
   ]
  },
  {
   "cell_type": "code",
   "execution_count": null,
   "id": "c875704c-5c70-473b-824c-cb94ed4cdfff",
   "metadata": {
    "tags": []
   },
   "outputs": [],
   "source": [
    "import matplotlib.pyplot as plt\n",
    "\n",
    "# Define the specific minor field\n",
    "selected_minor_field = 'Computationally Intensive Research'\n",
    "\n",
    "# Initialize an empty DataFrame to store grouped data\n",
    "grouped_data = pd.DataFrame()\n",
    "\n",
    "selected_data = combined_df[(combined_df['Minor'] == selected_minor_field)]\n",
    "    \n",
    "# Group the data by 'Year', then calculate the counts\n",
    "grouped_data = selected_data.groupby('Year').size()\n",
    "grouped_data"
   ]
  },
  {
   "cell_type": "code",
   "execution_count": null,
   "id": "d8055332-1305-4211-a87b-bf1b6e580fd1",
   "metadata": {
    "tags": []
   },
   "outputs": [],
   "source": [
    "# Plotting a bar plot for counts over years\n",
    "plt.figure(figsize=(10, 6))\n",
    "grouped_data.plot(kind='bar')\n",
    "plt.title(f'Number of {selected_minor_field} Awards in {selected_major_field} Over Time')\n",
    "plt.xlabel('Year')\n",
    "plt.ylabel('Number of Awards')\n",
    "plt.grid(True)\n",
    "plt.xticks(rotation=45)\n",
    "plt.tight_layout()\n",
    "plt.show()"
   ]
  },
  {
   "cell_type": "code",
   "execution_count": null,
   "id": "ef7a207e-fc2c-437b-a34b-42e338a8059a",
   "metadata": {},
   "outputs": [],
   "source": []
  }
 ],
 "metadata": {
  "kernelspec": {
   "display_name": "Python 3 (ipykernel)",
   "language": "python",
   "name": "python3"
  },
  "language_info": {
   "codemirror_mode": {
    "name": "ipython",
    "version": 3
   },
   "file_extension": ".py",
   "mimetype": "text/x-python",
   "name": "python",
   "nbconvert_exporter": "python",
   "pygments_lexer": "ipython3",
   "version": "3.8.17"
  }
 },
 "nbformat": 4,
 "nbformat_minor": 5
}
